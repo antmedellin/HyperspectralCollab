{
  "nbformat": 4,
  "nbformat_minor": 0,
  "metadata": {
    "colab": {
      "provenance": [],
      "mount_file_id": "1XIXMoqlQVOWx0QacTd4iaEAKbVwAbqbB",
      "authorship_tag": "ABX9TyNeTIRbt4GFDtKGCSn4CMAx",
      "include_colab_link": true
    },
    "kernelspec": {
      "name": "python3",
      "display_name": "Python 3"
    },
    "language_info": {
      "name": "python"
    }
  },
  "cells": [
    {
      "cell_type": "markdown",
      "metadata": {
        "id": "view-in-github",
        "colab_type": "text"
      },
      "source": [
        "<a href=\"https://colab.research.google.com/github/antmedellin/HyperspectralCollab/blob/main/test.ipynb\" target=\"_parent\"><img src=\"https://colab.research.google.com/assets/colab-badge.svg\" alt=\"Open In Colab\"/></a>"
      ]
    },
    {
      "cell_type": "markdown",
      "source": [
        "This is a test script to make sure it is set up properly"
      ],
      "metadata": {
        "id": "QjFnJrLpvBBf"
      }
    },
    {
      "cell_type": "code",
      "execution_count": null,
      "metadata": {
        "colab": {
          "base_uri": "https://localhost:8080/"
        },
        "id": "WCMnQ8k2u-2J",
        "outputId": "cf2291d7-293f-42ca-f98f-b6d784fac8e7"
      },
      "outputs": [
        {
          "output_type": "stream",
          "name": "stdout",
          "text": [
            "/content\n"
          ]
        }
      ],
      "source": [
        "from google.colab import files\n",
        "from google.colab import drive\n",
        "import os\n",
        "\n",
        "print(os.getcwd())\n",
        "\n"
      ]
    },
    {
      "cell_type": "code",
      "source": [
        "# testing mounting of drive location\n",
        "drive.mount(\"/content/drive\")\n",
        "\n"
      ],
      "metadata": {
        "colab": {
          "base_uri": "https://localhost:8080/"
        },
        "id": "9NNwloTcyZss",
        "outputId": "ab7eb8a7-3876-4199-dccc-b4b8bd63738b"
      },
      "execution_count": null,
      "outputs": [
        {
          "output_type": "stream",
          "name": "stdout",
          "text": [
            "Drive already mounted at /content/drive; to attempt to forcibly remount, call drive.mount(\"/content/drive\", force_remount=True).\n"
          ]
        }
      ]
    },
    {
      "cell_type": "code",
      "source": [],
      "metadata": {
        "id": "xbA6WIgdfpA5"
      },
      "execution_count": null,
      "outputs": []
    }
  ]
}